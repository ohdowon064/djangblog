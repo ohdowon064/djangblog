{
 "cells": [
  {
   "cell_type": "code",
   "execution_count": 3,
   "id": "5426e6ca",
   "metadata": {},
   "outputs": [],
   "source": [
    "import os\n",
    "import django\n",
    "os.environ[\"DJANGO_SETTINGS_MODULE\"] = \"djangblog.settings\"\n",
    "os.environ[\"DJANGO_ALLOW_ASYNC_UNSAFE\"] = \"true\"\n",
    "\n",
    "django.setup()"
   ]
  },
  {
   "cell_type": "code",
   "execution_count": 4,
   "id": "2b7548f1",
   "metadata": {},
   "outputs": [],
   "source": [
    "from instagram.models import Post"
   ]
  },
  {
   "cell_type": "code",
   "execution_count": 7,
   "id": "8f4e38f9",
   "metadata": {},
   "outputs": [
    {
     "name": "stdout",
     "output_type": "stream",
     "text": [
      "SELECT \"instagram_post\".\"id\", \"instagram_post\".\"message\", \"instagram_post\".\"photo\", \"instagram_post\".\"is_public\", \"instagram_post\".\"created_at\", \"instagram_post\".\"updated_at\" FROM \"instagram_post\"\n"
     ]
    }
   ],
   "source": [
    "qs = Post.objects.all()\n",
    "print(qs.query)"
   ]
  },
  {
   "cell_type": "code",
   "execution_count": 9,
   "id": "36f950f9",
   "metadata": {},
   "outputs": [
    {
     "name": "stdout",
     "output_type": "stream",
     "text": [
      "SELECT \"instagram_post\".\"id\", \"instagram_post\".\"message\", \"instagram_post\".\"photo\", \"instagram_post\".\"is_public\", \"instagram_post\".\"created_at\", \"instagram_post\".\"updated_at\" FROM \"instagram_post\" ORDER BY \"instagram_post\".\"id\" DESC\n"
     ]
    },
    {
     "data": {
      "text/plain": [
       "<QuerySet [<Post: (3) 세번째 메시지>, <Post: (2) 두번째 메시지>, <Post: (1) 첫번째 메시지>]>"
      ]
     },
     "execution_count": 9,
     "metadata": {},
     "output_type": "execute_result"
    }
   ],
   "source": [
    "qs = Post.objects.all().order_by(\"-id\")\n",
    "print(qs.query)\n",
    "qs"
   ]
  },
  {
   "cell_type": "code",
   "execution_count": 1,
   "id": "665e5595",
   "metadata": {},
   "outputs": [
    {
     "ename": "NameError",
     "evalue": "name 'Post' is not defined",
     "output_type": "error",
     "traceback": [
      "\u001B[0;31m---------------------------------------------------------------------------\u001B[0m",
      "\u001B[0;31mNameError\u001B[0m                                 Traceback (most recent call last)",
      "Input \u001B[0;32mIn [1]\u001B[0m, in \u001B[0;36m<module>\u001B[0;34m\u001B[0m\n\u001B[0;32m----> 1\u001B[0m qs \u001B[38;5;241m=\u001B[39m \u001B[43mPost\u001B[49m\u001B[38;5;241m.\u001B[39mobjects\u001B[38;5;241m.\u001B[39mall()\u001B[38;5;241m.\u001B[39morder_by(\u001B[38;5;124m\"\u001B[39m\u001B[38;5;124m-id\u001B[39m\u001B[38;5;124m\"\u001B[39m)[:\u001B[38;5;241m2\u001B[39m]\n\u001B[1;32m      2\u001B[0m \u001B[38;5;28mprint\u001B[39m(qs\u001B[38;5;241m.\u001B[39mquery)\n\u001B[1;32m      3\u001B[0m qs\n",
      "\u001B[0;31mNameError\u001B[0m: name 'Post' is not defined"
     ]
    }
   ],
   "source": [
    "qs = Post.objects.all().order_by(\"-id\")[:2]\n",
    "print(qs.query)\n",
    "qs"
   ]
  },
  {
   "cell_type": "code",
   "execution_count": 12,
   "id": "997f36d3",
   "metadata": {},
   "outputs": [
    {
     "name": "stdout",
     "output_type": "stream",
     "text": [
      "세번째 메시지 2022-02-08 13:49:05.972587+00:00\n",
      "두번째 메시지 2022-02-08 13:49:00.614149+00:00\n"
     ]
    }
   ],
   "source": [
    "for post in qs:\n",
    "    print(post.message, post.created_at)"
   ]
  },
  {
   "cell_type": "code",
   "execution_count": 21,
   "id": "72a68f58",
   "metadata": {},
   "outputs": [
    {
     "name": "stdout",
     "output_type": "stream",
     "text": [
      "SELECT \"instagram_post\".\"id\", \"instagram_post\".\"message\", \"instagram_post\".\"photo\", \"instagram_post\".\"is_public\", \"instagram_post\".\"created_at\", \"instagram_post\".\"updated_at\" FROM \"instagram_post\" WHERE NOT (\"instagram_post\".\"message\" LIKE %첫번째% ESCAPE '\\') ORDER BY \"instagram_post\".\"id\" ASC\n"
     ]
    },
    {
     "data": {
      "text/plain": [
       "<QuerySet [<Post: (2) 두번째 메시지>, <Post: (3) 세번째 메시지>]>"
      ]
     },
     "execution_count": 21,
     "metadata": {},
     "output_type": "execute_result"
    }
   ],
   "source": [
    "query = \"메시지\" # 검색어\n",
    "qs = Post.objects.all()\n",
    "qs = qs.exclude(message__icontains=\"첫번째\")\n",
    "qs = qs.order_by(\"id\")\n",
    "print(qs.query)\n",
    "qs"
   ]
  },
  {
   "cell_type": "code",
   "execution_count": 25,
   "id": "f5d0cbce",
   "metadata": {},
   "outputs": [
    {
     "ename": "MultipleObjectsReturned",
     "evalue": "get() returned more than one Post -- it returned 3!",
     "output_type": "error",
     "traceback": [
      "\u001B[0;31m---------------------------------------------------------------------------\u001B[0m",
      "\u001B[0;31mMultipleObjectsReturned\u001B[0m                   Traceback (most recent call last)",
      "Input \u001B[0;32mIn [25]\u001B[0m, in \u001B[0;36m<module>\u001B[0;34m\u001B[0m\n\u001B[1;32m      1\u001B[0m qs \u001B[38;5;241m=\u001B[39m Post\u001B[38;5;241m.\u001B[39mobjects\u001B[38;5;241m.\u001B[39mall()\n\u001B[0;32m----> 2\u001B[0m \u001B[43mqs\u001B[49m\u001B[38;5;241;43m.\u001B[39;49m\u001B[43mget\u001B[49m\u001B[43m(\u001B[49m\u001B[43mid__lte\u001B[49m\u001B[38;5;241;43m=\u001B[39;49m\u001B[38;5;241;43m3\u001B[39;49m\u001B[43m)\u001B[49m\n",
      "File \u001B[0;32m~/Workspace/djangblog/venv/lib/python3.8/site-packages/django/db/models/query.py:443\u001B[0m, in \u001B[0;36mQuerySet.get\u001B[0;34m(self, *args, **kwargs)\u001B[0m\n\u001B[1;32m    438\u001B[0m \u001B[38;5;28;01mif\u001B[39;00m \u001B[38;5;129;01mnot\u001B[39;00m num:\n\u001B[1;32m    439\u001B[0m     \u001B[38;5;28;01mraise\u001B[39;00m \u001B[38;5;28mself\u001B[39m\u001B[38;5;241m.\u001B[39mmodel\u001B[38;5;241m.\u001B[39mDoesNotExist(\n\u001B[1;32m    440\u001B[0m         \u001B[38;5;124m\"\u001B[39m\u001B[38;5;132;01m%s\u001B[39;00m\u001B[38;5;124m matching query does not exist.\u001B[39m\u001B[38;5;124m\"\u001B[39m \u001B[38;5;241m%\u001B[39m\n\u001B[1;32m    441\u001B[0m         \u001B[38;5;28mself\u001B[39m\u001B[38;5;241m.\u001B[39mmodel\u001B[38;5;241m.\u001B[39m_meta\u001B[38;5;241m.\u001B[39mobject_name\n\u001B[1;32m    442\u001B[0m     )\n\u001B[0;32m--> 443\u001B[0m \u001B[38;5;28;01mraise\u001B[39;00m \u001B[38;5;28mself\u001B[39m\u001B[38;5;241m.\u001B[39mmodel\u001B[38;5;241m.\u001B[39mMultipleObjectsReturned(\n\u001B[1;32m    444\u001B[0m     \u001B[38;5;124m'\u001B[39m\u001B[38;5;124mget() returned more than one \u001B[39m\u001B[38;5;132;01m%s\u001B[39;00m\u001B[38;5;124m -- it returned \u001B[39m\u001B[38;5;132;01m%s\u001B[39;00m\u001B[38;5;124m!\u001B[39m\u001B[38;5;124m'\u001B[39m \u001B[38;5;241m%\u001B[39m (\n\u001B[1;32m    445\u001B[0m         \u001B[38;5;28mself\u001B[39m\u001B[38;5;241m.\u001B[39mmodel\u001B[38;5;241m.\u001B[39m_meta\u001B[38;5;241m.\u001B[39mobject_name,\n\u001B[1;32m    446\u001B[0m         num \u001B[38;5;28;01mif\u001B[39;00m \u001B[38;5;129;01mnot\u001B[39;00m limit \u001B[38;5;129;01mor\u001B[39;00m num \u001B[38;5;241m<\u001B[39m limit \u001B[38;5;28;01melse\u001B[39;00m \u001B[38;5;124m'\u001B[39m\u001B[38;5;124mmore than \u001B[39m\u001B[38;5;132;01m%s\u001B[39;00m\u001B[38;5;124m'\u001B[39m \u001B[38;5;241m%\u001B[39m (limit \u001B[38;5;241m-\u001B[39m \u001B[38;5;241m1\u001B[39m),\n\u001B[1;32m    447\u001B[0m     )\n\u001B[1;32m    448\u001B[0m )\n",
      "\u001B[0;31mMultipleObjectsReturned\u001B[0m: get() returned more than one Post -- it returned 3!"
     ]
    }
   ],
   "source": [
    "qs = Post.objects.all()\n",
    "qs.get(id__lte=3)"
   ]
  },
  {
   "cell_type": "code",
   "execution_count": 26,
   "id": "77ba72a2",
   "metadata": {},
   "outputs": [
    {
     "data": {
      "text/plain": [
       "<Post: (1) 첫번째 메시지>"
      ]
     },
     "execution_count": 26,
     "metadata": {},
     "output_type": "execute_result"
    }
   ],
   "source": [
    "qs.first()"
   ]
  },
  {
   "cell_type": "code",
   "execution_count": 27,
   "id": "b68bc4f4",
   "metadata": {},
   "outputs": [
    {
     "data": {
      "text/plain": [
       "<Post: (3) 세번째 메시지>"
      ]
     },
     "execution_count": 27,
     "metadata": {},
     "output_type": "execute_result"
    }
   ],
   "source": [
    "qs.last()"
   ]
  },
  {
   "cell_type": "code",
   "execution_count": 29,
   "id": "09670775",
   "metadata": {},
   "outputs": [],
   "source": [
    "qs.none().first()"
   ]
  },
  {
   "cell_type": "code",
   "execution_count": 30,
   "id": "d72f35a5",
   "metadata": {},
   "outputs": [],
   "source": [
    "from django.db.models import Q"
   ]
  },
  {
   "cell_type": "code",
   "execution_count": 37,
   "id": "4570f0b1",
   "metadata": {},
   "outputs": [
    {
     "name": "stdout",
     "output_type": "stream",
     "text": [
      "SELECT \"instagram_post\".\"id\", \"instagram_post\".\"message\", \"instagram_post\".\"photo\", \"instagram_post\".\"is_public\", \"instagram_post\".\"created_at\", \"instagram_post\".\"updated_at\" FROM \"instagram_post\" WHERE (\"instagram_post\".\"id\" >= 2 OR \"instagram_post\".\"message\" LIKE %메시지% ESCAPE '\\')\n"
     ]
    }
   ],
   "source": [
    "qs = Post.objects.all()\n",
    "cond = Q(id__gte=2) | Q(message__icontains=\"메시지\")\n",
    "qs = qs.filter(cond)\n",
    "print(qs.query)"
   ]
  },
  {
   "cell_type": "code",
   "execution_count": null,
   "id": "e1aa0a4a",
   "metadata": {},
   "outputs": [],
   "source": []
  }
 ],
 "metadata": {
  "kernelspec": {
   "display_name": "Python 3 (ipykernel)",
   "language": "python",
   "name": "python3"
  },
  "language_info": {
   "codemirror_mode": {
    "name": "ipython",
    "version": 3
   },
   "file_extension": ".py",
   "mimetype": "text/x-python",
   "name": "python",
   "nbconvert_exporter": "python",
   "pygments_lexer": "ipython3",
   "version": "3.8.9"
  }
 },
 "nbformat": 4,
 "nbformat_minor": 5
}